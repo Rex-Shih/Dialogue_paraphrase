{
 "cells": [
  {
   "cell_type": "markdown",
   "metadata": {},
   "source": [
    "## Dialogue paraphrase\n",
    "\n",
    "#### 1. Install the environment by conda, then switch ipython kernel to \"sentence_paraphrase\""
   ]
  },
  {
   "cell_type": "code",
   "execution_count": null,
   "metadata": {},
   "outputs": [],
   "source": [
    "# install environment\n",
    "!conda env create -f environment.yml\n",
    "# switch the ipython kernel to \"sentence_paraphrase\""
   ]
  },
  {
   "cell_type": "markdown",
   "metadata": {},
   "source": [
    "#### 2. Download the model and data for paraphrase, and the data for training model.\n",
    "* The datasets we use include DNLI, EMNLP, MSC, peronachat and WOW."
   ]
  },
  {
   "cell_type": "code",
   "execution_count": null,
   "metadata": {},
   "outputs": [],
   "source": [
    "# download model and training/inference data\n",
    "!bash script/download.sh"
   ]
  },
  {
   "cell_type": "markdown",
   "metadata": {},
   "source": [
    "#### 3. Generate the the paraphrase\n",
    "* We choose test data in EMNLP_dataset for sentence paraphrase, by randomly choose an utterance from one of the speaker as the target for paraphrase.\n",
    "* If you want to use your own data, please followed the format and save it to a json file:  \n",
    "`{\"prev\": \"A: ... B: ... A:\", \"cur\": \"...\", \"future\": \"B: ... A: ...\"}, {...}`\n",
    "* In which \"prev\" means previous dialogue, \"cur\" means the utterance for paraphrase, and \"future\" means future dialogue. Each utterance should have prefix \"A: \" or \"B: \" to indicate the speaker. Note that \"A: \" or \"B: \" for the utterance for paraphrase should be place at the end of \"prev\".\n",
    "* you can simply change the seed for parse_data.py, to generate a different paraphrase file."
   ]
  },
  {
   "cell_type": "code",
   "execution_count": null,
   "metadata": {},
   "outputs": [],
   "source": [
    "%cd script\n",
    "# parse the EMNLP data(already done, you can change the seed for different paraphrase file)\n",
    "\n",
    "#!python parse_data.py --seed 314\n",
    "\n",
    "# generate paraphrase\n",
    "!CUDA_VISIBLE_DEVICES=2 python3 generate_paraphrase.py \\\n",
    "    --num_passes 2 \\\n",
    "    --future_gradient_iters 8 \\\n",
    "    --original_gradient_iters 8 \\\n",
    "    --future_lr 6e-1 \\\n",
    "    --original_lr 6e-1 \\\n",
    "    --future_ratio 0.15 \\\n",
    "    --original_ratio 0.6 \\\n",
    "    --top_k 5 \\\n",
    "    --temperature 0.7 \\\n",
    "    --output_file \"./script_data/origin.json\"\n",
    "\n",
    "!CUDA_VISIBLE_DEVICES=1 python3 ranking.py \\\n",
    "  --hyps_file \"./script_data/origin.json\"  \\\n",
    "  --output_file \"../result/paraphrase_result.txt\" \\\n",
    "  --original_data_file \"./script_data/testData_withHint.json\"\n",
    "\n",
    "%cd .."
   ]
  },
  {
   "cell_type": "markdown",
   "metadata": {},
   "source": [
    "#### 4. Evaluation\n",
    "* We employ BLEU, ROUGE-L, and BERTScore metrics to evaluate the dissimilarity between paraphrased sentences and their original counterparts. A lower score indicates a more varied paraphrase.\n",
    "* We also train a NSP model for measuring the quality between previous dialogue and future dialogue. We use this model to show the quality of paraphrase by nsp score1, which use the combination of the previous dialogue and paraphrase to predict future dialogue; and nsp score2, which use previous dialogue to predict the combination of paraphrase and future dialogue."
   ]
  },
  {
   "cell_type": "code",
   "execution_count": null,
   "metadata": {},
   "outputs": [],
   "source": [
    "#evaluation\n",
    "%cd script\n",
    "!python view_result.py --predicted_file ../result/paraphrase_result.txt\n",
    "%cd .."
   ]
  }
 ],
 "metadata": {
  "kernelspec": {
   "display_name": "paraphrase",
   "language": "python",
   "name": "python3"
  },
  "language_info": {
   "codemirror_mode": {
    "name": "ipython",
    "version": 3
   },
   "file_extension": ".py",
   "mimetype": "text/x-python",
   "name": "python",
   "nbconvert_exporter": "python",
   "pygments_lexer": "ipython3",
   "version": "3.11.4"
  },
  "orig_nbformat": 4
 },
 "nbformat": 4,
 "nbformat_minor": 2
}
